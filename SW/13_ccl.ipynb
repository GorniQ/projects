{
  "nbformat": 4,
  "nbformat_minor": 0,
  "metadata": {
    "kernelspec": {
      "display_name": "Python 3",
      "language": "python",
      "name": "python3"
    },
    "language_info": {
      "codemirror_mode": {
        "name": "ipython",
        "version": 2
      },
      "file_extension": ".py",
      "mimetype": "text/x-python",
      "name": "python",
      "nbconvert_exporter": "python",
      "pygments_lexer": "ipython2",
      "version": "2.7.6"
    },
    "colab": {
      "name": "13_ccl_MG.ipynb",
      "provenance": [],
      "collapsed_sections": []
    }
  },
  "cells": [
    {
      "cell_type": "markdown",
      "metadata": {
        "collapsed": true,
        "pycharm": {
          "name": "#%% md\n"
        },
        "id": "BSC-AKO8tQX5"
      },
      "source": [
        "# Indeksacja. Prosta klasyfikacja obiektów.\n",
        "\n",
        "## Cel ćwiczenia\n",
        "- zapoznanie z dwuprzebiegowym algorytmem indeksacji (ang. *connected component labelling*):\n",
        "- zapoznanie z prostą klasyfikacją obiektów z wykorzystaniem współczynników kształtu,\n",
        "- zadanie domowe: zmodyfikowana indeksacja dwuprzebiegowa i indeksacja jednoprzebiegowa.\n",
        "\n",
        "## Indeksacja\n",
        "\n",
        "Większość dotychczas poznanych i wykorzystywanych algorytmów przetwarzania obrazu wykonywała operacje na całym obrazie (lub co najwyżej dokonywany był podział obiekt/obiekty - tło. Np. różne metody segmentacji).\n",
        "Patrząc na poniższny rysunek człowiek widzi dwa kwadraty.\n",
        "\n",
        "![Dwa kwadraty, obraz binarny](https://raw.githubusercontent.com/vision-agh/poc_sw/master/13_CCL/2objects.png)\n",
        "\n",
        "Dla automatycznego systemu analizy i rozpoznawania obrazów przejście od etapu obiekty/tło do wyróżnienia dwóch kwadratów nie jest takie oczywiste i wymaga zastosowania jakieś formy indeksacji - czyli przypisania każdemu z pikseli uznanych za należące do obiektów (tu białych) jakieś etykiety (w naszym przypadku będą to dwie etykiety, ew. dodatkowa oznaczająca tło).\n",
        "\n",
        "W tej części ćwiczenia zaprezentowany zostanie tzw. dwuprzebiegowy algorytm indeksacji (ang. *two-pass connected component labelling*).\n",
        "Jego nazwa związana jest z koniecznością wykonania dwukrotnego odwiedzenia każdego z pikseli obrazu (dwie pętle/iteracje po obrazie).\n",
        "Istnieją również tzw. jednoprzebiegowe algorytmy indeksacji - por. zadnie domowe."
      ]
    },
    {
      "cell_type": "markdown",
      "metadata": {
        "collapsed": false,
        "id": "k_iuZLCJtQX5"
      },
      "source": [
        "## Opis algorytmu\n",
        "\n",
        "- Na wejściu mamy obraz po binaryzacji - zakładamy, że piksele białe ('1', '255') należą do obiektów, tło jest czarne.\n",
        "\n",
        "- W pierwszej iteracji obraz analizujemy linia po linii, od lewej do prawej, aż do napotkania pierwszego piksela o wartości różnej od '0'.\n",
        "  W tej sytuacji dokonujemy analizy otoczenia piksela:\n",
        "\n",
        "  ![Dwa kwadraty, obraz binarny](https://raw.githubusercontent.com/vision-agh/poc_sw/master/13_CCL/cclContext.png)\n",
        "\n",
        "  gdzie: **X**  rozważany piksel, **A,B,C,D** - sąsiedzi z otoczenia.\n",
        "  Uwaga. W przykładzie pokazano tzw. sąsiedztwo 8-elementowe.\n",
        "  Niekiedy stosuje się również wersję 4-elementową (praktycznie bardzo rzadko).\n",
        "  Wtedy analizie podlegałyby by tylko piksele **B** i **D**.\n",
        "\n",
        "- Możliwe są następujące przypadki dla otoczenia __A,B,C,D__:\n",
        "    - (a) wszystkie należą do tła __A,B,C,D == 0__.\n",
        "      Wtedy znaleziony piksel __X__ należy do nowego obiektu - nadajemy mu zatem etykietę __L+1__ __X = L+1}__ - przez __L__ rozumiemy poprzednią etykietę.\n",
        "\t  Uwaga. Przed uruchomieniem algorytmu __L__ należy zainicjować wartością  '1'\n",
        "    - (b) jeden lub więcej pikseli ma przypisaną aktualną etykietę **L**.\n",
        "\t  Wtedy rozważanemu pikselowi przypisujemy etykietę **L** - **X = L**.\n",
        "    - (c) w otoczeniu występują piksele o różnych etykietach np. *L1* i *L2*.\n",
        "\t  Wtedy przyjmuje się zasadę, że rozważanemu pikselowi *X* przypisuje się mniejszą z wartości *L1* i *L2* (*X = min(L1,L2)*)."
      ]
    },
    {
      "cell_type": "markdown",
      "metadata": {
        "collapsed": false,
        "id": "113kHUihtQX6"
      },
      "source": [
        "## Implementacja:\n",
        "\n",
        "- Wczytaj obraz *ccl1.png*, wyświetl go.\n",
        "  Po krótkiej analizie można zauważyć, że występuje na nim 7 odrębnych obiektów.\n",
        "      Ich ``wykrycie'' będzie naszym celem.\n",
        "\n",
        "- Na podstawie opisu algorytmu podanego wcześniej zaimplementuj tzw. pierwszą fazę indeksacji (ang. _first pass_):\n",
        "    - uwaga ogólna - algorytm jest dość prosty i łatwy w implementacji,\n",
        "    - obliczenia powinny odbywać się w pętlach `for` - iteracja po całym obrazku.\n",
        "      Warto pominąć pierwszy wiersz i pierwszą oraz ostatnią kolumnę, aby  wyeliminować problem z brakiem kontekstu (można np. założyć, że pikseli brzegowych nie ma, bo wcześniej wykonane zostało morfologiczne czyszczenie brzegu).\n",
        "    - dla przypomnienia iteracja po macierzy w Python - pętla zewnętrzna - wiersze, pętla wewnętrzna - kolumny – tj. pierwsza współrzędna to wiersz, a druga kolumna,\n",
        "    - rozmiar obrazka można odczytać np. poleceniem: `yy, xx = img.shape`\n",
        "      Przy takim przypisaniu `yy` oznacza liczbę wierszy (wysokość obrazka), a `xx` liczbę kolumn (szerokość obrazka),\n",
        "    - działania podejmujemy tylko w przypadku, gdy aktualnie analizowany piksel ma wartość różną od zera (gdy należy do obiektu),\n",
        "    - najtrudniejszym elementem jest analiza otoczenia piksela i stwierdzenie, z którym z przypadków (a), (b) czy (c) mamy do czynienia.\n",
        "      Problem można rozwiązać jakkolwiek (tylko dobrze), poniżej prezentowana jest jedna z możliwości.\n",
        "    - na początku tworzymy listę pikseli, które stanowią otoczenie piksela X (A, B, C, D) np: ` neighbours = [img[j - 1, i - 1], ... `\n",
        "    - następnie sprawdzamy czy nie występuje przypadek (a) - czyli czy suma sąsiadów nie wynosi 0 -  ` neigh_sum = np.sum(neighbours)`, jeżeli tak to `X = L` oraz `L=L+1`.\n",
        "      Uwaga proszę nie zapomnieć zainicjalizować etykiety `L` wartością 1.\n",
        "    - jeżeli `neigh_sum > 0`, mamy do czynienia z przypadkiem (b) lub (c).\n",
        "      Eliminujemy zerowe elementy z listy `sasiedzi` (`neighbours = filter(lambda x: x != 0, neighbours)`), a następnie znajdujemy minimum i maksimum nowej listy `neighbours` (funkcje `min` i `max` z _numpy_).\n",
        "    - z przypadkiem (b) będziemy mieli do czynienia, gdy *minimum = maksimum*.\n",
        "      Wtedy jako etykietę przypisujemy `X = minimum = maksimum`.\n",
        "      Gdy *minimum != maksimum* mamy przypadek (c).\n",
        "      Wtedy etykieta `X = minimum` - taką przyjmujemy konwencję,\n",
        "    - uwaga 1 - algorytm operuje (czyta punkty z otoczenia i zapisuje kolejne indeksy L) na tym samym obrazie wejściowym,\n",
        "    \\item uwaga 2 - przed implementacją metody obsługi konfliktów przypadki (b) i (c) działają tak samo, ale dla potrzeb dalszych kroków należy je rozróżnić,\n",
        "\n",
        "- Wykonaj indeksację obrazu za pomocą zaimplementowanego algorytmu.\n",
        "  Jeżeli wszystko zostało poprawnie napisane, to wynik powinien wyglądać mniej więcej tak jak na poniższym rysunku. Takie porównanie stanowić będzie pierwszy test poprawności implementacji algorytmu.\n",
        "\n",
        "  ![Wynik pierwszewgo etapu indekscacji](https://raw.githubusercontent.com/vision-agh/poc_sw/master/13_CCL/ccl1Result.png)\n",
        "\n",
        "\n"
      ]
    },
    {
      "cell_type": "code",
      "metadata": {
        "pycharm": {
          "name": "#%%\n"
        },
        "id": "_oTTa4BAtQX7",
        "colab": {
          "base_uri": "https://localhost:8080/"
        },
        "outputId": "abddb5b6-0620-429c-9a76-b2e8d65b1d7a"
      },
      "source": [
        "import os\n",
        "import cv2\n",
        "import matplotlib.pyplot as plt\n",
        "import numpy as np\n",
        "\n",
        "if not os.path.exists(\"ccl1.png\") :\n",
        "    !wget https://raw.githubusercontent.com/vision-agh/poc_sw/master/13_CCL/ccl1.png --no-check-certificate\n",
        "if not os.path.exists(\"shapes.png\") :\n",
        "    !wget https://raw.githubusercontent.com/vision-agh/poc_sw/master/13_CCL/shapes.png --no-check-certificate\n",
        "if not os.path.exists(\"shapesReal.png\") :\n",
        "    !wget https://raw.githubusercontent.com/vision-agh/poc_sw/master/13_CCL/shapesReal.png --no-check-certificate\n",
        "\n",
        "# Implementacja pierwszego kroku indeksacji\n",
        "def plotImg(image, t = \"Obraz\"):\n",
        "    plt.figure();\n",
        "    plt.title(t)\n",
        "    plt.imshow(image, cmap =\"gray\")\n",
        "    plt.xticks([]), plt.yticks([])\n",
        "\n",
        "\n",
        "def plot_result2(image1, image2, t1 = \"Obraz oryginalny\", t2 = \"Obraz po opercjach\"):\n",
        "\n",
        "  figure, axs = plt.subplots(1,2)\n",
        "  figure.set_size_inches(10,5)\n",
        "\n",
        "  axs[0].imshow(image1, cmap = 'gray')\n",
        "  axs[0].axis('off')\n",
        "  axs[0].set_title(t1)\n",
        "\n",
        "  axs[1].imshow(image2, cmap = 'gray')\n",
        "  axs[1].axis('off')\n",
        "  axs[1].set_title(t2)\n",
        "\n",
        "def plot_result3(img, i1, i2, t1 = \"Image1\", t2 = \"Image2\", t3= \"Image3\"):\n",
        "    figure, axs = plt.subplots(1,3)\n",
        "    figure.set_size_inches(15,5)\n",
        "    axs[0].imshow(img, cmap = 'gray')\n",
        "    axs[0].axis('off')\n",
        "    axs[0].set_title(t1)\n",
        "\n",
        "    axs[1].imshow(i1, cmap = 'gray')\n",
        "    axs[1].axis('off')\n",
        "    axs[1].set_title(t2)\n",
        "\n",
        "    axs[2].imshow(i2, cmap = 'gray')\n",
        "    axs[2].axis('off')\n",
        "    axs[2].set_title(t3)"
      ],
      "execution_count": 1,
      "outputs": [
        {
          "output_type": "stream",
          "name": "stdout",
          "text": [
            "--2022-06-01 14:23:06--  https://raw.githubusercontent.com/vision-agh/poc_sw/master/13_CCL/ccl1.png\n",
            "Resolving raw.githubusercontent.com (raw.githubusercontent.com)... 185.199.108.133, 185.199.109.133, 185.199.110.133, ...\n",
            "Connecting to raw.githubusercontent.com (raw.githubusercontent.com)|185.199.108.133|:443... connected.\n",
            "HTTP request sent, awaiting response... 200 OK\n",
            "Length: 1314 (1.3K) [image/png]\n",
            "Saving to: ‘ccl1.png’\n",
            "\n",
            "\rccl1.png              0%[                    ]       0  --.-KB/s               \rccl1.png            100%[===================>]   1.28K  --.-KB/s    in 0s      \n",
            "\n",
            "2022-06-01 14:23:06 (75.4 MB/s) - ‘ccl1.png’ saved [1314/1314]\n",
            "\n",
            "--2022-06-01 14:23:06--  https://raw.githubusercontent.com/vision-agh/poc_sw/master/13_CCL/shapes.png\n",
            "Resolving raw.githubusercontent.com (raw.githubusercontent.com)... 185.199.108.133, 185.199.111.133, 185.199.109.133, ...\n",
            "Connecting to raw.githubusercontent.com (raw.githubusercontent.com)|185.199.108.133|:443... connected.\n",
            "HTTP request sent, awaiting response... 200 OK\n",
            "Length: 33440 (33K) [image/png]\n",
            "Saving to: ‘shapes.png’\n",
            "\n",
            "shapes.png          100%[===================>]  32.66K  --.-KB/s    in 0.002s  \n",
            "\n",
            "2022-06-01 14:23:06 (13.2 MB/s) - ‘shapes.png’ saved [33440/33440]\n",
            "\n",
            "--2022-06-01 14:23:07--  https://raw.githubusercontent.com/vision-agh/poc_sw/master/13_CCL/shapesReal.png\n",
            "Resolving raw.githubusercontent.com (raw.githubusercontent.com)... 185.199.108.133, 185.199.111.133, 185.199.109.133, ...\n",
            "Connecting to raw.githubusercontent.com (raw.githubusercontent.com)|185.199.108.133|:443... connected.\n",
            "HTTP request sent, awaiting response... 200 OK\n",
            "Length: 538954 (526K) [image/png]\n",
            "Saving to: ‘shapesReal.png’\n",
            "\n",
            "shapesReal.png      100%[===================>] 526.32K  --.-KB/s    in 0.04s   \n",
            "\n",
            "2022-06-01 14:23:07 (12.2 MB/s) - ‘shapesReal.png’ saved [538954/538954]\n",
            "\n"
          ]
        }
      ]
    },
    {
      "cell_type": "code",
      "metadata": {
        "id": "QR2cFvflvtYq"
      },
      "source": [
        "def firstpass(image):\n",
        "  L = 1\n",
        "  yy, xx = image.shape\n",
        "  for i in range(1, yy-1):\n",
        "    for j in range(1, xx-1):\n",
        "      if image[i, j] != 0:\n",
        "        neighbours = [image[i-1, j-1], image[i-1, j], image[i-1, j+1], image[i, j-1]]\n",
        "        neigh_sum = np.sum(neighbours)\n",
        "        if neigh_sum == 0:\n",
        "          image[i][j] = L\n",
        "          L = L + 1\n",
        "        if neigh_sum >0:\n",
        "          neighbours = filter(lambda x: x != 0, neighbours)\n",
        "          neighbours = [i for i in neighbours]\n",
        "          neigh_min = np.min(neighbours)\n",
        "          neigh_max = np.max(neighbours)\n",
        "          if neigh_min == neigh_max :\n",
        "            image[i][j] = neigh_max\n",
        "          else:\n",
        "            image[i][j] = neigh_min\n",
        "  return image"
      ],
      "execution_count": 2,
      "outputs": []
    },
    {
      "cell_type": "code",
      "metadata": {
        "id": "z2sE4Ol0vwZq",
        "colab": {
          "base_uri": "https://localhost:8080/",
          "height": 195
        },
        "outputId": "09eb78b5-9270-45ee-b0a6-199c706b392e"
      },
      "source": [
        "ccl1 = cv2.imread('ccl1.png')\n",
        "ccl1 = cv2.cvtColor(ccl1, cv2.COLOR_BGR2GRAY)\n",
        "image_fp = firstpass(ccl1)\n",
        "plotImg(image_fp)"
      ],
      "execution_count": 3,
      "outputs": [
        {
          "output_type": "display_data",
          "data": {
            "text/plain": [
              "<Figure size 432x288 with 1 Axes>"
            ],
            "image/png": "[encoded data removed]"
          },
          "metadata": {}
        }
      ]
    },
    {
      "cell_type": "markdown",
      "metadata": {
        "collapsed": false,
        "id": "OP_5G3HgtQX8"
      },
      "source": [
        "## Dyskusja:\n",
        "\n",
        "- W wyniku indeksacji uzyskujemy obraz, na którym wyróżnionych jest wiele obiektów (dokładnie 48) - a faktycznie jest tylko 7. Zastanówmy się z czego to wynika.\n",
        "\n",
        "- Zacznijmy od prostego przypadku przedstawionego na poniższym rysunku:\n",
        "\n",
        "  ![Indeksacja - przykład pierwszy](https://raw.githubusercontent.com/vision-agh/poc_sw/master/13_CCL/cclEx1.png)\n",
        "\n",
        "  Obraz analizowany jest linia po linii.\n",
        "  Zatem pierwszą etykietę dostanie słupek po prawej.\n",
        "  Późnej ten po lewej.\n",
        "  Postępując zgodnie z podanym algorytmem, w pewnym momencie (piksel wyróżniony na obrazku) dojdzie do sytuacji, w której w otoczeniu danego piksela znajdą się dwie różne etykiety (tu: '1' i '2').\n",
        "  Wtedy zgodnie z przyjętą metodologią przypisujemy niższą, tj. '1'.\n",
        "  Problem jaki powstaje, to brak zapamiętania informacji o tym, że wystąpił taki konflikt tj. że powinno nastąpić połączenie etykiet '1' i '2'.\n",
        "  Z tego powodu wynik działania algorytmu nie jest poprawny.\n",
        "\n",
        "-  Przeanalizujmy jeszcze jeden, bardziej złożony przykład z rysunku poniżej:\n",
        "   ![Indeksacja - przykład drugi](https://raw.githubusercontent.com/vision-agh/poc_sw/master/13_CCL/cclEx2.png)\n",
        "\n",
        "   Słupek po prawej dostaje indeks '1', a po lewej '2'.\n",
        "   W czwartej linii występuje piksel, który ma w swoim sąsiedztwie (A,B,C,D) same piksele czarne.\n",
        "   Dlatego dostaje etykietę '3'.\n",
        "   Jednak w następnym kroku okazuje się, że następuje konflikt '3' z '1' (połączenie).\n",
        "   W kolejnym wierszu występuje konflikt '2' i '3'.\n",
        "   Warto zwrócić uwagę, że w tym przypadku trzeba uniknąć sytuacji ''utraty'' informacji o połączeniu '1' z '2' przez '3'.\n",
        "\n",
        "- W literaturze zaproponowano wiele sposobów reprezentacji i rozwiązywania przedstawionych konfliktów:\n",
        "    - 2-krotki,\n",
        "    - n-krotki,\n",
        "    - tablica dwuwymiarowa,\n",
        "    - grafy + przeszukiwanie grafu wgłąb.\n",
        " W obecnym ćwiczeniu zastosujemy ostatnie podejście, które jest najprostsze do realizacji."
      ]
    },
    {
      "cell_type": "markdown",
      "metadata": {
        "collapsed": false,
        "pycharm": {
          "name": "#%% md\n"
        },
        "id": "gEGmphndtQX8"
      },
      "source": [
        "- Opisane konflikty możemy przechowywać w strukturze zbiorów rozłącznych (ang. _union find_).\n",
        "  Jest to zagadnienie znane z przedmiotu ''Algorytmy i struktury danych''.\n",
        "  Poniżej zostanie zaprezentowane krótkie przypomnienie.\n",
        "\n",
        "- Mamy $N$ obiektów. W naszym przypadku to jest $N$ etykiet.\n",
        "  Chcemy przechowywać informację o sytuacji, w której następuje łączenie etykiet tj. interesują nas zbiory obiektów połączonych.\n",
        "  Przykład trzech zbiorów zamieszczono na rysunku:\n",
        "  ![Przykład trzech połączonych zbiorów](https://raw.githubusercontent.com/vision-agh/poc_sw/master/13_CCL/unionFind1.png)\n",
        "\n",
        "- W ramach rozważanej struktury implementuje się dwie operacje:\n",
        "    - *find* (znajdź) - sprawdzenie czy dwa obiekty należą do tego samego zbioru połączonego,\n",
        "\t- *union* (połącz) - wprowadź połączenie pomiędzy dwoma obiektami.\n",
        "\n",
        "- Z punktu widzenia naszych potrzeb ważna jest funkcja _union_. Przykład dodania połączenia pomiędzy obiektami '2' a'3' pokazano na rysunku:\n",
        "\n",
        "  ![Przykład łączenia obiektów](https://raw.githubusercontent.com/vision-agh/poc_sw/master/13_CCL/unionFind2.png)\n",
        "\n",
        "- Strukturę oraz obie operacje można zaimplementować na kilka sposobów.\n",
        "  Zainteresowanych odsyłam do literatury przedmiotu.\n",
        "  My zastosujemy podejście _quick-union_.\n",
        "  Nie jest ono specjalnie wydajnie, ale bardzo proste do implementacji.\n",
        "\n",
        "- Nasz graf, w którym wierzchołki oznaczają etykiety, a krawędzie połączenia między etykietami, zapiszemy w tablicy jednowymiarowej `id[]` o rozmiarze $N$ (maksymalna liczba etykiet).\n",
        "  Interpretacja pola w tablicy: `id[i]` jest rodzicem `i`.\n",
        "  Korzeń elementu `i` jest dany jako: `id[id[id[...id[i]...]]]`.\n",
        "\n",
        "- Przeanalizujmy jak to działa na prostym przykładzie.\n",
        "  Mamy dany poetykietowany obraz:\n",
        "\n",
        "    ![Indeksacja - przykład 3](https://raw.githubusercontent.com/vision-agh/poc_sw/master/13_CCL/cclEx3.png)\n",
        "\n",
        "  Występuje na nim pięć konfliktów oznaczonych A, B, C, D i E  (uwaga w trakcie działania algorytmu pojawią się właśnie w takiej kolejności).\n",
        "\n",
        "- Sytuację wyjściową opisuje poniższy rysunek:\n",
        "   ![Indeksacja - przykład 3](https://raw.githubusercontent.com/vision-agh/poc_sw/master/13_CCL/cclEx3_union1.png)\n",
        "\n",
        "   Tablica `id` wypełniona jest kolejnymi indeksami.\n",
        "\n",
        "- W algorytmie _quick-union_, aby połączyć elementy $p$ i $q$ należy ustawić $id$ korzenia $q$ pod adres korzenia elementu $p$.\n",
        "Uwaga. Zakładamy, że $p$ < $q$.\n",
        "Można to zapisać jako: `id[root(p)] = root(q)`.\n",
        "Nasze pierwsze połączenie (A) to 4 z 2.\n",
        "Po tej operacji sytuacja będzie wyglądać następująco:\n",
        "\n",
        "    ![Indeksacja - przykład 3_1](https://raw.githubusercontent.com/vision-agh/poc_sw/master/13_CCL/cclEx3_union2.png)\n",
        "\n",
        "W tym przypadku korzenieniem obu elementów są same elementy, zatem operacja jest dość prosta.\n",
        "\n",
        "- Kolejny krok tj. połączenie  2 z 1 -  sytuacja B:\n",
        "\n",
        "    ![Indeksacja - przykład 3_2](https://raw.githubusercontent.com/vision-agh/poc_sw/master/13_CCL/cclEx3_union3.png)\n",
        "\n",
        "Element 1 jest korzeniem.\n",
        "Element 2 już nie, ponieważ `id[2]==4`.\n",
        "Sprawdzamy zatem `id[4]`.\n",
        "Okazuje się, że `id[4] == 4` tj. jest to korzeń.\n",
        "Zatem korzeniem dla elementu 2 jest 4.\n",
        "Dokonujemy stosownej modyfikacji w tablicy `id[1] = 4`.\n",
        "\n",
        "-  Kolejne połączenie to 6 z 3 (C):\n",
        "\n",
        "    ![Indeksacja - przykład 3_3](https://raw.githubusercontent.com/vision-agh/poc_sw/master/13_CCL/cclEx3_union4.png)\n",
        "\n",
        "- Kolejne połączenie to 5 z 1.\n",
        "\n",
        "    ![Indeksacja - przykład 3_4](https://raw.githubusercontent.com/vision-agh/poc_sw/master/13_CCL/cclEx3_union5.png)\n",
        "\n",
        "Szukamy korzenia elementu 1.\n",
        "Znajdujemy, że to jest 4.\n",
        "Zatem łączymy 5 i 4.\n",
        "\n",
        "- Ostatnie połączenie to 6 z 5.\n",
        "\n",
        "   ![Indeksacja - przykład 3_5](https://raw.githubusercontent.com/vision-agh/poc_sw/master/13_CCL/cclEx3_union6.png)\n",
        "\n",
        "-  Ostatni krok to wykorzystanie informacji zawartej w tablicy `id` do wyznaczenia przekodowania LUT (ang. _look-up table_), które pozwoli nam nadać poprawne etykiety wszystkim pikselom.\n",
        "      Zasadniczo sprowadza się on do obliczenia dla każdej możliwej etykiety jej korzenia.\n",
        "      W naszym przypadku zawsze otrzymamy 6, gdyż wszystkie piksele są ze sobą połączone i stanowią jeden obiekt."
      ]
    },
    {
      "cell_type": "markdown",
      "metadata": {
        "collapsed": false,
        "pycharm": {
          "name": "#%% md\n"
        },
        "id": "EWLcBYWjtQX9"
      },
      "source": [
        "## Implementacja:\n",
        "\n",
        "- Implementacja jest dużo prostsza i krótsza od powyższego opisu.\n",
        "  Istotne jest tylko dobre zrozumienie algorytmu _union-find_.\n",
        "\n",
        "- Potrzebne będą nam dwie funkcje pomocnicze:\n",
        "\n",
        "    - `root` - obliczanie korzenia zgodnie z podanym opisem (odpowiednia pętla `while`). Funkcja pobiera indeks elementu oraz tablicę, a zwraca indeks korzenia.\n",
        "    - `union` - realizacja operacji unii. Argumenty to indeksy `p` i `q` oraz tablica, a wyniki to zmodyfikowana tablica.\n",
        "\n",
        "- Na początku, przed pierwszym przebiegiem algorytmu indeksacji, tworzymy tablicę `id` i inicjujemy ją wartościami od 1 do $N$.\n",
        "  Dla rozważanego przykładu wystarczy $N = 100$.\n",
        "\n",
        "- Następnie, w przypadku wystąpienia konfliktu (przypadek ()c)), tworzymy unię pomiędzy etykietą mniejszą i większą.\n",
        "\n",
        "- Po pierwszym przebiegu tworzymy, w opisany powyżej sposób, przekodowanie LUT (pętla po `id` i funkcja `root`). Powstaje nam tablica `lut`.\n",
        "\n",
        "- Implementujemy drugi przebieg po obrazie.\n",
        "  Jest on bardzo prosty.\n",
        "  Dla każdego piksela, który nie jest tłem (o etykiecie większej od 0) realizujemy przekodowanie LUT (`lut_table[img[j, i] - 1]`).\n",
        "  Otrzymany w ten sposób obraz wyświetlamy.\n",
        "  Powinniśmy uzyskać poprawne etykietowanie."
      ]
    },
    {
      "cell_type": "code",
      "metadata": {
        "pycharm": {
          "name": "#%%\n"
        },
        "id": "5S2RpowBtQX-",
        "colab": {
          "base_uri": "https://localhost:8080/",
          "height": 195
        },
        "outputId": "9c688ed1-4beb-475c-b6c3-231155926873"
      },
      "source": [
        "def root(tab,id):\n",
        "  while id != tab[id]:\n",
        "        id = tab[id]\n",
        "  return id\n",
        "\n",
        "def union(id,p,q):\n",
        "  id[root(id,p)] = root(id,q)\n",
        "\n",
        "def quick_union(image):\n",
        "  xx, yy = image.shape\n",
        "  L = 1\n",
        "  id = [i for i in range(101)]\n",
        "\n",
        "  for i in range(1,xx-1):\n",
        "      for j in range(1,yy-1):\n",
        "        if image[i,j] != 0:\n",
        "            neighbours = [image[i - 1, j - 1], image[i-1, j], image[i-1,j+1], image[i,j-1]]; \n",
        "            neigh_sum = np.sum(neighbours);\n",
        "            if neigh_sum == 0:\n",
        "                image[i,j] = L\n",
        "                L = L+1\n",
        "            elif neigh_sum > 0:\n",
        "                neighbours = filter(lambda x: x != 0, neighbours)\n",
        "                neighbours = [i for i in neighbours]\n",
        "                neigh_min = np.min(neighbours)\n",
        "                neigh_max = np.max(neighbours)\n",
        "                if neigh_min == neigh_max:\n",
        "                  image[i,j] = neigh_min\n",
        "                elif neigh_min != neigh_max:\n",
        "                  image[i,j] = neigh_min\n",
        "                  union(id,neigh_min,neigh_max)\n",
        "\n",
        "  lut = id[:]\n",
        "  for i in range(len(id)):\n",
        "    lut[i] = root(id,i)\n",
        "\n",
        "  for i in range(1,xx-1):\n",
        "      for j in range(1,yy-1):\n",
        "        image[i,j] = lut[image[i, j]]\n",
        "  return image\n",
        "      \n",
        "ccl1 = cv2.imread('ccl1.png')\n",
        "ccl1 = cv2.cvtColor(ccl1, cv2.COLOR_BGR2GRAY)\n",
        "\n",
        "res = quick_union(ccl1)\n",
        "plotImg(res)"
      ],
      "execution_count": 4,
      "outputs": [
        {
          "output_type": "display_data",
          "data": {
            "text/plain": [
              "<Figure size 432x288 with 1 Axes>"
            ],
            "image/png": "[encoded data removed]"
          },
          "metadata": {}
        }
      ]
    },
    {
      "cell_type": "markdown",
      "metadata": {
        "collapsed": false,
        "pycharm": {
          "name": "#%% md\n"
        },
        "id": "mbBWnxVPtQX9"
      },
      "source": [
        "## Indeksacja wbudowana w OpenCV\n",
        "\n",
        "W OpenCV dostępna jest funkcja `connectedComponents`, która pozwala wykonać indeksację.\n",
        "Proszę sprawdzić jej działanie na używanym wcześniej obrazie."
      ]
    },
    {
      "cell_type": "code",
      "metadata": {
        "id": "3XkTDVjC4aPD",
        "colab": {
          "base_uri": "https://localhost:8080/",
          "height": 195
        },
        "outputId": "684a6d0e-60d0-4a66-e0b9-1260592830f3"
      },
      "source": [
        "# Indeksacja wbudowana w OpenCV\n",
        "num_labels, res = cv2.connectedComponents(ccl1)\n",
        "plotImg(res)"
      ],
      "execution_count": 5,
      "outputs": [
        {
          "output_type": "display_data",
          "data": {
            "text/plain": [
              "<Figure size 432x288 with 1 Axes>"
            ],
            "image/png": "[encoded data removed]"
          },
          "metadata": {}
        }
      ]
    },
    {
      "cell_type": "markdown",
      "metadata": {
        "collapsed": false,
        "id": "Ur_-ZtLCtQX-"
      },
      "source": [
        "## Rozpoznawanie obiektów z wykorzystaniem współczynników kształtu\n",
        "\n",
        "Współczynniki kształtu są pewnymi parametrami liczbowymi opisującymi kształt obiektu.\n",
        "Pozwala to na użycie ich do automatycznego rozpoznawania obiektów.\n",
        "Teoretycznie współczynniki kształtu (dobre) powinny być niezależne od zmiany położenia obiektu, jego orientacji i wielkości.\n",
        "W praktyce okazuje się jednak, że wartości współczynników zmieniają się w pewnym zakresie nawet dla obiektów należących do tych samych klas (te same kształty - przykład obracany kwadrat).\n",
        "Wynika z tego konieczność uwzględnienia pewnej tolerancji wartości współczynników kształtu wykorzystywanych w praktycznych zastosowaniach analizy i rozpoznawania obrazu.\n",
        "\n",
        "# Implementacja dla obrazu sztucznego\n",
        "\n",
        "- Wczytaj obraz _shapes.png_.\n",
        "  Wyświetl go.\n",
        "  Pierwszym etapem zadania będzie wybranie współczynników kształtu i przedziałów ich wartości - takich, które pozwolą na wykrycie konkretnych kształtów.\n",
        "  Do wyboru jest kwadrat lub krzyżyk (koło jest zbyt łatwe).\n",
        "\n",
        "- Obok ''klasycznych'' współczynników kształtu tj. Blair-Bliss, Malinowskiej, Haralick, występują współczynniki będące pochodnymi momentów geometrycznych tzn. momenty Hu [https://en.wikipedia.org/wiki/Image_moment]. Wykorzystamy je w naszym ćwiczeniu.\n",
        "\n",
        "- Pierwszy krok to indeksacja obrazu - poznana funkcja `connectedComponents`.\n",
        "- Następnie w pętli, dla kolejnych obiektów wyznaczamy współczynniki Hu.\n",
        "    - po pierwsze należy ''wybrać'' z obrazu dany obiekt np. `I = (ccl == s)*1` oraz `I = I.astype('uint8')`\n",
        "    - po drugie obliczyć momenty geometryczne - `cv2.moments(I)`\n",
        "    - po trzecie, na podstawie momentów, obliczyć momentu Hu `cv2.HuMoments(moments)`\n",
        "- Mając wyznaczone współczynniki musimy jest przeanalizować. W tym celu dobrze ja jakoś wyświetlić w postaci macierzy - proszę to rozwiązać samodzielnie.\n",
        "\n",
        "- Na podstawie analizy należy wybrać próg (jeden lub więcej) i zrealizować stosowną filtrację tj. usunąć ''niechciane'' kształty.\n",
        "\n"
      ]
    },
    {
      "cell_type": "code",
      "metadata": {
        "id": "RzejvGsi2NFK",
        "colab": {
          "base_uri": "https://localhost:8080/",
          "height": 286
        },
        "outputId": "a02fe6ae-d58f-436d-a8ee-a54760a641bd"
      },
      "source": [
        "shapes = cv2.imread('shapes.png')\n",
        "shapes = cv2.cvtColor(shapes, cv2.COLOR_BGR2GRAY)\n",
        "num_labels, connected = cv2.connectedComponents(shapes)\n",
        "print(num_labels)\n",
        "plotImg(connected)"
      ],
      "execution_count": 6,
      "outputs": [
        {
          "output_type": "stream",
          "name": "stdout",
          "text": [
            "9\n"
          ]
        },
        {
          "output_type": "display_data",
          "data": {
            "text/plain": [
              "<Figure size 432x288 with 1 Axes>"
            ],
            "image/png": "[encoded data removed]"
          },
          "metadata": {}
        }
      ]
    },
    {
      "cell_type": "code",
      "metadata": {
        "pycharm": {
          "name": "#%%\n"
        },
        "id": "dG49Wn94tQX-",
        "colab": {
          "base_uri": "https://localhost:8080/",
          "height": 268
        },
        "outputId": "f6c3bff4-fea0-4457-c4ae-7e35629b71ca"
      },
      "source": [
        "# Rozpoznawanie obiektów sztucznych\n",
        "\n",
        "def shape_detection(image,num_labels,threshHu):\n",
        "  huList = []\n",
        "  yy, xx = image.shape\n",
        "  correct_shapes = np.zeros(image.shape).astype('uint8')\n",
        "  # Go through all recognized shapes \n",
        "  for n in range(1,num_labels):\n",
        "    one_shape = np.zeros(image.shape).astype('uint8')\n",
        "    for i in range(1, yy):\n",
        "      for j in range(1, xx):\n",
        "        # Isolate one shape\n",
        "        if image[i, j] == n:\n",
        "          one_shape[i, j] = n\n",
        "    \n",
        "    # Check huMoment of shape and add to list\n",
        "    huMoments = cv2.HuMoments(cv2.moments(one_shape))\n",
        "    huList.append(huMoments)\n",
        "\n",
        "    # Check if shape is correct\n",
        "    isCorrect = True\n",
        "    for mHu in threshHu:\n",
        "      if isCorrect:\n",
        "        if not mHu[1] < huMoments[mHu[0]] < mHu[2]:\n",
        "          isCorrect = False\n",
        "          break\n",
        "    # If correct add to result img\n",
        "    if isCorrect:\n",
        "      correct_shapes += one_shape\n",
        "  return huList, correct_shapes\n",
        "\n",
        "\n",
        "#Lista która przechowuje numer indeksu huMoments oraz progi\n",
        "threshHu = [[0,2e-2,3e-2],[1,3e-8,7e-8]]\n",
        "\n",
        "\n",
        "\n",
        "huList, correct_shapes = shape_detection(connected,num_labels,threshHu)\n",
        "plotImg(correct_shapes)"
      ],
      "execution_count": 7,
      "outputs": [
        {
          "output_type": "display_data",
          "data": {
            "text/plain": [
              "<Figure size 432x288 with 1 Axes>"
            ],
            "image/png": "[encoded data removed]"
          },
          "metadata": {}
        }
      ]
    },
    {
      "cell_type": "markdown",
      "metadata": {
        "collapsed": false,
        "id": "OdJNWuihtQX_"
      },
      "source": [
        "# Implementacja dla obrazu rzeczywistego\n",
        "\n",
        "- Podobne ćwiczenie należy zrealizować dla obrazu rzeczywistego _shapesReal.png_.\n",
        "- Uwaga. Wykorzystując poznane metody przetwarzania obrazu doprowadź obraz do postaci binarnej (usuń ew. zakłócenia itp.).\n",
        "- Uwagi:\n",
        "    - należy z obrazu wyeliminować małe grupki pikseli - tak aby nie zostały poindeksowane,\n",
        "    - obiektów powinno być 13,\n",
        "    - może się okazać, że zajdzie potrzeba modyfikacji warunków na współczynniki albo wręcz wprowadzenia dodatkowych współczynników.\n",
        "    - warto zaznaczyć, że opisane podejście tj. ''ręczne'' wyznaczanie przedziałów parametrów stosuje się tylko do bardzo prostych problemów. W rzeczywistych aplikacjach rozpoznawania obrazu stosuje się tzw. uczenie maszynowe i klasyfikatory typu sztuczne sieci neuronowe, algorytm k-NN, czy SVM.\n",
        "\n",
        "- Sposób postępowania jest zasadniczo bardzo podobny do tego użytego wcześniej. Przy czym, ponieważ obiektów jest więcej, warto je sobie ''opisać'' - ułatwia to analizę:\n",
        "    - użyjemy funkcji `connectedComponentsWithStats` - pozwala ona wyliczyć statystyki (pole, prostokąt otaczający oraz centroid). Szczegóły użycia proszę sprawdzić w dokumentacji,\n",
        "    - wykonujemy kopię obrazu poindeksowanego (`ccl_vis = ccl.copy()`),\n",
        "    - w pętli po obiektach wypisujemy numery:\n",
        "      `cv2.putText(ccl_vis,str(label_num),(int(centroids[s,0]),int(centroids[s,1])),cv2.FONT_HERSHEY_SIMPLEX,1,(20,0,0),2)`\n",
        "      Argumenty to odpowiednio: obraz, tekst, jego położenie, czcionka, rozmiar, kolor, grubość).\n",
        "      Zwracam uwagę na kolor, tu dobrze jest dać wartość nieco większą niż maksymalna etykieta.\n",
        "      Inaczej wystąpi problem z czytelnością wizualizacji.\n",
        "\n",
        "- Przeprowadzamy podobną analizę jak wcześniej i dobieramy odpowiednie warunki/progi.\n",
        "- W efekcie powinniśmy uzyskać obraz z krzyżykami, kwadratami lub kółkami."
      ]
    },
    {
      "cell_type": "code",
      "metadata": {
        "pycharm": {
          "name": "#%%\n"
        },
        "id": "kFarsvMRtQX_",
        "colab": {
          "base_uri": "https://localhost:8080/",
          "height": 1000
        },
        "outputId": "fd015581-6b8e-403d-b6a1-c8c6733b884a"
      },
      "source": [
        "# Rozpoznawanie obiektów rzeczywistych\n",
        "shapesR = cv2.imread('shapesReal.png')\n",
        "shapesR = cv2.cvtColor(shapesR, cv2.COLOR_BGR2GRAY)\n",
        "tr, shapesR  = cv2.threshold(shapesR,127,255,cv2.THRESH_BINARY_INV)\n",
        "plotImg(shapesR)\n",
        "shapesR = cv2.erode(shapesR, cv2.getStructuringElement(cv2.MORPH_ELLIPSE,(5,5)), iterations = 4)\n",
        "plotImg(shapesR)\n",
        "label_num, shapesRd, stats, centroids = cv2.connectedComponentsWithStats(shapesR)\n",
        "\n",
        "shapesRd_vis = shapesRd.copy()\n",
        "for s in range(1, label_num):\n",
        "  cv2.putText(shapesRd_vis,str(s),(int(centroids[s,0]),int(centroids[s,1])),cv2.FONT_HERSHEY_SIMPLEX,1,(20,0,0),2)\n",
        "plotImg(shapesRd_vis)\n",
        "\n",
        "\n",
        "threshHu = [[0,2.36e-2,5.4e-2],[1,5.4e-6,2.4e-5]]\n",
        "huList, correct_shapes = shape_detection(shapesRd,label_num,threshHu)\n",
        "plotImg(correct_shapes)"
      ],
      "execution_count": 8,
      "outputs": [
        {
          "output_type": "display_data",
          "data": {
            "text/plain": [
              "<Figure size 432x288 with 1 Axes>"
            ],
            "image/png": "[encoded data removed]"
          },
          "metadata": {}
        },
        {
          "output_type": "display_data",
          "data": {
            "text/plain": [
              "<Figure size 432x288 with 1 Axes>"
            ],
            "image/png": "[encoded data removed]"
          },
          "metadata": {}
        },
        {
          "output_type": "display_data",
          "data": {
            "text/plain": [
              "<Figure size 432x288 with 1 Axes>"
            ],
            "image/png": "[encoded data removed]"
          },
          "metadata": {}
        },
        {
          "output_type": "display_data",
          "data": {
            "text/plain": [
              "<Figure size 432x288 with 1 Axes>"
            ],
            "image/png": "[encoded data removed]"
          },
          "metadata": {}
        }
      ]
    }
  ]
}