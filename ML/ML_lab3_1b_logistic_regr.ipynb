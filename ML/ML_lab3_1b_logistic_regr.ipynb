{
  "nbformat": 4,
  "nbformat_minor": 0,
  "metadata": {
    "colab": {
      "name": "ML_MGornik_lab3_1b.ipynb",
      "provenance": [],
      "collapsed_sections": []
    },
    "kernelspec": {
      "name": "python3",
      "display_name": "Python 3"
    },
    "language_info": {
      "name": "python"
    }
  },
  "cells": [
    {
      "cell_type": "code",
      "execution_count": 223,
      "metadata": {
        "id": "w63CShPkDVBI"
      },
      "outputs": [],
      "source": [
        "import numpy as np\n",
        "import pandas as pd\n",
        "import matplotlib.pyplot as plt\n",
        " \n",
        "import os\n",
        "path = os.getcwd() + '/ex2data1.txt'\n",
        "data = pd.read_csv(path, header=None, names=['Exam 1', 'Exam 2', 'Admitted'])"
      ]
    },
    {
      "cell_type": "code",
      "source": [
        "data.head()"
      ],
      "metadata": {
        "colab": {
          "base_uri": "https://localhost:8080/",
          "height": 206
        },
        "id": "496nYWnXEFEA",
        "outputId": "d4a2b37f-b511-4510-a8fd-2e9a7e36e0ae"
      },
      "execution_count": 224,
      "outputs": [
        {
          "output_type": "execute_result",
          "data": {
            "text/plain": [
              "      Exam 1     Exam 2  Admitted\n",
              "0  34.623660  78.024693         0\n",
              "1  30.286711  43.894998         0\n",
              "2  35.847409  72.902198         0\n",
              "3  60.182599  86.308552         1\n",
              "4  79.032736  75.344376         1"
            ],
            "text/html": [
              "\n",
              "  <div id=\"df-b71be4ab-bd73-43f5-bc80-6dfef9001641\">\n",
              "    <div class=\"colab-df-container\">\n",
              "      <div>\n",
              "<style scoped>\n",
              "    .dataframe tbody tr th:only-of-type {\n",
              "        vertical-align: middle;\n",
              "    }\n",
              "\n",
              "    .dataframe tbody tr th {\n",
              "        vertical-align: top;\n",
              "    }\n",
              "\n",
              "    .dataframe thead th {\n",
              "        text-align: right;\n",
              "    }\n",
              "</style>\n",
              "<table border=\"1\" class=\"dataframe\">\n",
              "  <thead>\n",
              "    <tr style=\"text-align: right;\">\n",
              "      <th></th>\n",
              "      <th>Exam 1</th>\n",
              "      <th>Exam 2</th>\n",
              "      <th>Admitted</th>\n",
              "    </tr>\n",
              "  </thead>\n",
              "  <tbody>\n",
              "    <tr>\n",
              "      <th>0</th>\n",
              "      <td>34.623660</td>\n",
              "      <td>78.024693</td>\n",
              "      <td>0</td>\n",
              "    </tr>\n",
              "    <tr>\n",
              "      <th>1</th>\n",
              "      <td>30.286711</td>\n",
              "      <td>43.894998</td>\n",
              "      <td>0</td>\n",
              "    </tr>\n",
              "    <tr>\n",
              "      <th>2</th>\n",
              "      <td>35.847409</td>\n",
              "      <td>72.902198</td>\n",
              "      <td>0</td>\n",
              "    </tr>\n",
              "    <tr>\n",
              "      <th>3</th>\n",
              "      <td>60.182599</td>\n",
              "      <td>86.308552</td>\n",
              "      <td>1</td>\n",
              "    </tr>\n",
              "    <tr>\n",
              "      <th>4</th>\n",
              "      <td>79.032736</td>\n",
              "      <td>75.344376</td>\n",
              "      <td>1</td>\n",
              "    </tr>\n",
              "  </tbody>\n",
              "</table>\n",
              "</div>\n",
              "      <button class=\"colab-df-convert\" onclick=\"convertToInteractive('df-b71be4ab-bd73-43f5-bc80-6dfef9001641')\"\n",
              "              title=\"Convert this dataframe to an interactive table.\"\n",
              "              style=\"display:none;\">\n",
              "        \n",
              "  <svg xmlns=\"http://www.w3.org/2000/svg\" height=\"24px\"viewBox=\"0 0 24 24\"\n",
              "       width=\"24px\">\n",
              "    <path d=\"M0 0h24v24H0V0z\" fill=\"none\"/>\n",
              "    <path d=\"M18.56 5.44l.94 2.06.94-2.06 2.06-.94-2.06-.94-.94-2.06-.94 2.06-2.06.94zm-11 1L8.5 8.5l.94-2.06 2.06-.94-2.06-.94L8.5 2.5l-.94 2.06-2.06.94zm10 10l.94 2.06.94-2.06 2.06-.94-2.06-.94-.94-2.06-.94 2.06-2.06.94z\"/><path d=\"M17.41 7.96l-1.37-1.37c-.4-.4-.92-.59-1.43-.59-.52 0-1.04.2-1.43.59L10.3 9.45l-7.72 7.72c-.78.78-.78 2.05 0 2.83L4 21.41c.39.39.9.59 1.41.59.51 0 1.02-.2 1.41-.59l7.78-7.78 2.81-2.81c.8-.78.8-2.07 0-2.86zM5.41 20L4 18.59l7.72-7.72 1.47 1.35L5.41 20z\"/>\n",
              "  </svg>\n",
              "      </button>\n",
              "      \n",
              "  <style>\n",
              "    .colab-df-container {\n",
              "      display:flex;\n",
              "      flex-wrap:wrap;\n",
              "      gap: 12px;\n",
              "    }\n",
              "\n",
              "    .colab-df-convert {\n",
              "      background-color: #E8F0FE;\n",
              "      border: none;\n",
              "      border-radius: 50%;\n",
              "      cursor: pointer;\n",
              "      display: none;\n",
              "      fill: #1967D2;\n",
              "      height: 32px;\n",
              "      padding: 0 0 0 0;\n",
              "      width: 32px;\n",
              "    }\n",
              "\n",
              "    .colab-df-convert:hover {\n",
              "      background-color: #E2EBFA;\n",
              "      box-shadow: 0px 1px 2px rgba(60, 64, 67, 0.3), 0px 1px 3px 1px rgba(60, 64, 67, 0.15);\n",
              "      fill: #174EA6;\n",
              "    }\n",
              "\n",
              "    [theme=dark] .colab-df-convert {\n",
              "      background-color: #3B4455;\n",
              "      fill: #D2E3FC;\n",
              "    }\n",
              "\n",
              "    [theme=dark] .colab-df-convert:hover {\n",
              "      background-color: #434B5C;\n",
              "      box-shadow: 0px 1px 3px 1px rgba(0, 0, 0, 0.15);\n",
              "      filter: drop-shadow(0px 1px 2px rgba(0, 0, 0, 0.3));\n",
              "      fill: #FFFFFF;\n",
              "    }\n",
              "  </style>\n",
              "\n",
              "      <script>\n",
              "        const buttonEl =\n",
              "          document.querySelector('#df-b71be4ab-bd73-43f5-bc80-6dfef9001641 button.colab-df-convert');\n",
              "        buttonEl.style.display =\n",
              "          google.colab.kernel.accessAllowed ? 'block' : 'none';\n",
              "\n",
              "        async function convertToInteractive(key) {\n",
              "          const element = document.querySelector('#df-b71be4ab-bd73-43f5-bc80-6dfef9001641');\n",
              "          const dataTable =\n",
              "            await google.colab.kernel.invokeFunction('convertToInteractive',\n",
              "                                                     [key], {});\n",
              "          if (!dataTable) return;\n",
              "\n",
              "          const docLinkHtml = 'Like what you see? Visit the ' +\n",
              "            '<a target=\"_blank\" href=https://colab.research.google.com/notebooks/data_table.ipynb>data table notebook</a>'\n",
              "            + ' to learn more about interactive tables.';\n",
              "          element.innerHTML = '';\n",
              "          dataTable['output_type'] = 'display_data';\n",
              "          await google.colab.output.renderOutput(dataTable, element);\n",
              "          const docLink = document.createElement('div');\n",
              "          docLink.innerHTML = docLinkHtml;\n",
              "          element.appendChild(docLink);\n",
              "        }\n",
              "      </script>\n",
              "    </div>\n",
              "  </div>\n",
              "  "
            ]
          },
          "metadata": {},
          "execution_count": 224
        }
      ]
    },
    {
      "cell_type": "code",
      "source": [
        "# Ex. 1.: Please follow the steps below:\n",
        "# add a column with values '1'\n",
        "if \"Ones\" not in data:\n",
        "  data.insert(0,\"Ones\",1)\n",
        "data.head()"
      ],
      "metadata": {
        "colab": {
          "base_uri": "https://localhost:8080/",
          "height": 206
        },
        "id": "ZDgVe0YYEWWv",
        "outputId": "ed098b5d-4d6e-4fed-afe6-a1ed0f18d9dd"
      },
      "execution_count": 225,
      "outputs": [
        {
          "output_type": "execute_result",
          "data": {
            "text/plain": [
              "   Ones     Exam 1     Exam 2  Admitted\n",
              "0     1  34.623660  78.024693         0\n",
              "1     1  30.286711  43.894998         0\n",
              "2     1  35.847409  72.902198         0\n",
              "3     1  60.182599  86.308552         1\n",
              "4     1  79.032736  75.344376         1"
            ],
            "text/html": [
              "\n",
              "  <div id=\"df-d847256a-c71d-4822-93f6-762cb47926aa\">\n",
              "    <div class=\"colab-df-container\">\n",
              "      <div>\n",
              "<style scoped>\n",
              "    .dataframe tbody tr th:only-of-type {\n",
              "        vertical-align: middle;\n",
              "    }\n",
              "\n",
              "    .dataframe tbody tr th {\n",
              "        vertical-align: top;\n",
              "    }\n",
              "\n",
              "    .dataframe thead th {\n",
              "        text-align: right;\n",
              "    }\n",
              "</style>\n",
              "<table border=\"1\" class=\"dataframe\">\n",
              "  <thead>\n",
              "    <tr style=\"text-align: right;\">\n",
              "      <th></th>\n",
              "      <th>Ones</th>\n",
              "      <th>Exam 1</th>\n",
              "      <th>Exam 2</th>\n",
              "      <th>Admitted</th>\n",
              "    </tr>\n",
              "  </thead>\n",
              "  <tbody>\n",
              "    <tr>\n",
              "      <th>0</th>\n",
              "      <td>1</td>\n",
              "      <td>34.623660</td>\n",
              "      <td>78.024693</td>\n",
              "      <td>0</td>\n",
              "    </tr>\n",
              "    <tr>\n",
              "      <th>1</th>\n",
              "      <td>1</td>\n",
              "      <td>30.286711</td>\n",
              "      <td>43.894998</td>\n",
              "      <td>0</td>\n",
              "    </tr>\n",
              "    <tr>\n",
              "      <th>2</th>\n",
              "      <td>1</td>\n",
              "      <td>35.847409</td>\n",
              "      <td>72.902198</td>\n",
              "      <td>0</td>\n",
              "    </tr>\n",
              "    <tr>\n",
              "      <th>3</th>\n",
              "      <td>1</td>\n",
              "      <td>60.182599</td>\n",
              "      <td>86.308552</td>\n",
              "      <td>1</td>\n",
              "    </tr>\n",
              "    <tr>\n",
              "      <th>4</th>\n",
              "      <td>1</td>\n",
              "      <td>79.032736</td>\n",
              "      <td>75.344376</td>\n",
              "      <td>1</td>\n",
              "    </tr>\n",
              "  </tbody>\n",
              "</table>\n",
              "</div>\n",
              "      <button class=\"colab-df-convert\" onclick=\"convertToInteractive('df-d847256a-c71d-4822-93f6-762cb47926aa')\"\n",
              "              title=\"Convert this dataframe to an interactive table.\"\n",
              "              style=\"display:none;\">\n",
              "        \n",
              "  <svg xmlns=\"http://www.w3.org/2000/svg\" height=\"24px\"viewBox=\"0 0 24 24\"\n",
              "       width=\"24px\">\n",
              "    <path d=\"M0 0h24v24H0V0z\" fill=\"none\"/>\n",
              "    <path d=\"M18.56 5.44l.94 2.06.94-2.06 2.06-.94-2.06-.94-.94-2.06-.94 2.06-2.06.94zm-11 1L8.5 8.5l.94-2.06 2.06-.94-2.06-.94L8.5 2.5l-.94 2.06-2.06.94zm10 10l.94 2.06.94-2.06 2.06-.94-2.06-.94-.94-2.06-.94 2.06-2.06.94z\"/><path d=\"M17.41 7.96l-1.37-1.37c-.4-.4-.92-.59-1.43-.59-.52 0-1.04.2-1.43.59L10.3 9.45l-7.72 7.72c-.78.78-.78 2.05 0 2.83L4 21.41c.39.39.9.59 1.41.59.51 0 1.02-.2 1.41-.59l7.78-7.78 2.81-2.81c.8-.78.8-2.07 0-2.86zM5.41 20L4 18.59l7.72-7.72 1.47 1.35L5.41 20z\"/>\n",
              "  </svg>\n",
              "      </button>\n",
              "      \n",
              "  <style>\n",
              "    .colab-df-container {\n",
              "      display:flex;\n",
              "      flex-wrap:wrap;\n",
              "      gap: 12px;\n",
              "    }\n",
              "\n",
              "    .colab-df-convert {\n",
              "      background-color: #E8F0FE;\n",
              "      border: none;\n",
              "      border-radius: 50%;\n",
              "      cursor: pointer;\n",
              "      display: none;\n",
              "      fill: #1967D2;\n",
              "      height: 32px;\n",
              "      padding: 0 0 0 0;\n",
              "      width: 32px;\n",
              "    }\n",
              "\n",
              "    .colab-df-convert:hover {\n",
              "      background-color: #E2EBFA;\n",
              "      box-shadow: 0px 1px 2px rgba(60, 64, 67, 0.3), 0px 1px 3px 1px rgba(60, 64, 67, 0.15);\n",
              "      fill: #174EA6;\n",
              "    }\n",
              "\n",
              "    [theme=dark] .colab-df-convert {\n",
              "      background-color: #3B4455;\n",
              "      fill: #D2E3FC;\n",
              "    }\n",
              "\n",
              "    [theme=dark] .colab-df-convert:hover {\n",
              "      background-color: #434B5C;\n",
              "      box-shadow: 0px 1px 3px 1px rgba(0, 0, 0, 0.15);\n",
              "      filter: drop-shadow(0px 1px 2px rgba(0, 0, 0, 0.3));\n",
              "      fill: #FFFFFF;\n",
              "    }\n",
              "  </style>\n",
              "\n",
              "      <script>\n",
              "        const buttonEl =\n",
              "          document.querySelector('#df-d847256a-c71d-4822-93f6-762cb47926aa button.colab-df-convert');\n",
              "        buttonEl.style.display =\n",
              "          google.colab.kernel.accessAllowed ? 'block' : 'none';\n",
              "\n",
              "        async function convertToInteractive(key) {\n",
              "          const element = document.querySelector('#df-d847256a-c71d-4822-93f6-762cb47926aa');\n",
              "          const dataTable =\n",
              "            await google.colab.kernel.invokeFunction('convertToInteractive',\n",
              "                                                     [key], {});\n",
              "          if (!dataTable) return;\n",
              "\n",
              "          const docLinkHtml = 'Like what you see? Visit the ' +\n",
              "            '<a target=\"_blank\" href=https://colab.research.google.com/notebooks/data_table.ipynb>data table notebook</a>'\n",
              "            + ' to learn more about interactive tables.';\n",
              "          element.innerHTML = '';\n",
              "          dataTable['output_type'] = 'display_data';\n",
              "          await google.colab.output.renderOutput(dataTable, element);\n",
              "          const docLink = document.createElement('div');\n",
              "          docLink.innerHTML = docLinkHtml;\n",
              "          element.appendChild(docLink);\n",
              "        }\n",
              "      </script>\n",
              "    </div>\n",
              "  </div>\n",
              "  "
            ]
          },
          "metadata": {},
          "execution_count": 225
        }
      ]
    },
    {
      "cell_type": "code",
      "source": [
        "# divide the data into parameters (X) and labels/classes (y)\n",
        "X_pd = data.iloc[:, [0,1,2]]\n",
        "y_pd = data.iloc[:,[3]]\n"
      ],
      "metadata": {
        "id": "Mp3WnyZoE1L-"
      },
      "execution_count": 226,
      "outputs": []
    },
    {
      "cell_type": "code",
      "source": [
        "# data conversion to numpy \n",
        "X = np.array(X_pd.values)\n",
        "y = np.array(y_pd.values)"
      ],
      "metadata": {
        "id": "zSlmeM-VE-ot"
      },
      "execution_count": 227,
      "outputs": []
    },
    {
      "cell_type": "code",
      "source": [
        "# Ex. 2.: Please plot the loaded data in the graph\n",
        "yT = y.T[0]\n",
        "colormap = np.array(['r', 'g'])\n",
        "plt.scatter(X[:,1], X[:,2],c= colormap[yT],marker= \"+\")\n",
        "plt.xlabel(\"Exam 1 scores\")\n",
        "plt.ylabel(\"Exam 2 scores\")\n",
        "plt.show()"
      ],
      "metadata": {
        "colab": {
          "base_uri": "https://localhost:8080/",
          "height": 279
        },
        "id": "hNuPgzYCFP5d",
        "outputId": "a0df6e6d-4675-4f9f-a796-2a7f09962c09"
      },
      "execution_count": 228,
      "outputs": [
        {
          "output_type": "display_data",
          "data": {
            "text/plain": [
              "<Figure size 432x288 with 1 Axes>"
            ],
            "image/png": "[encoded data removed]"
          },
          "metadata": {
            "needs_background": "light"
          }
        }
      ]
    },
    {
      "cell_type": "code",
      "source": [
        "# Ex. 3.: Earlier, we said that we want our hθ(x) \n",
        "# classifier to match the property:\n",
        "def sig(t):\n",
        "  return 1/(1+np.exp(-t))\n",
        "\n"
      ],
      "metadata": {
        "id": "P9Wqoun7Ien-"
      },
      "execution_count": 229,
      "outputs": []
    },
    {
      "cell_type": "code",
      "source": [
        "# Ex. 4.: Using the function np.arange or np.linspace, please generate data \n",
        "# from the range [-5.5], step 0.5 and check the correct operation of the\n",
        "# implemented function by plotting it.\n",
        "\n",
        "dat1 = np.linspace(-5,5,21)\n",
        "y1 = []\n",
        "for yi in dat1:\n",
        "  y1.append(sig(yi))\n",
        "\n",
        "plt.plot(dat1,y1)"
      ],
      "metadata": {
        "colab": {
          "base_uri": "https://localhost:8080/",
          "height": 282
        },
        "id": "uW2z6LSiI-SN",
        "outputId": "9e3651d6-caad-48af-843d-93abaab5a928"
      },
      "execution_count": 230,
      "outputs": [
        {
          "output_type": "execute_result",
          "data": {
            "text/plain": [
              "[<matplotlib.lines.Line2D at 0x7fbb26d7bdd0>]"
            ]
          },
          "metadata": {},
          "execution_count": 230
        },
        {
          "output_type": "display_data",
          "data": {
            "text/plain": [
              "<Figure size 432x288 with 1 Axes>"
            ],
            "image/png": "[encoded data removed]"
          },
          "metadata": {
            "needs_background": "light"
          }
        }
      ]
    },
    {
      "cell_type": "code",
      "source": [
        "def cost(theta, X, y):\n",
        "  return 1/(len(y))*(-y.T@np.log(sig(X@theta))-(1-y).T@np.log(1-sig(X@theta)))\n",
        "\n",
        "\n",
        "theta = np.zeros(3)\n",
        "print(f'Cost: {cost(theta,X,y)}')"
      ],
      "metadata": {
        "colab": {
          "base_uri": "https://localhost:8080/"
        },
        "id": "jbKZN01DKp4k",
        "outputId": "166a4373-f9aa-48e1-a697-44aa3fa284f7"
      },
      "execution_count": 237,
      "outputs": [
        {
          "output_type": "stream",
          "name": "stdout",
          "text": [
            "Cost: 0.6931471805599453\n"
          ]
        }
      ]
    },
    {
      "cell_type": "code",
      "source": [
        "# Ex. 6.: Please implement simple gradient function:\n",
        "def simple_gradient(X, y, theta, alpha, it):\n",
        "    # it - iteration nb.\n",
        "    costs = []\n",
        "    for i in range(it):\n",
        "        h = sig(X @ theta)\n",
        "        for k in range(3):\n",
        "            theta[k] = theta[k] - alpha/len(y) * np.sum((np.subtract(h.T,y).T) @ (np.matrix(X[:,k]).T)) \n",
        "        costs.append(cost(theta,X,y))\n",
        "    return theta, costs"
      ],
      "metadata": {
        "id": "7vYsSeRyRkMq"
      },
      "execution_count": 234,
      "outputs": []
    },
    {
      "cell_type": "code",
      "source": [
        "# normalize data\n",
        "data[\"Exam 1\"] = [(i - data[\"Exam 1\"].mean())/data[\"Exam 1\"].std() for i in data[\"Exam 1\"]]\n",
        "data[\"Exam 2\"] = [(i - data[\"Exam 2\"].mean())/data[\"Exam 2\"].std() for i in data[\"Exam 2\"]]\n",
        "X=np.array(data[[\"Ones\",\"Exam 1\",\"Exam 2\"]])\n",
        "y=np.array(data[\"Admitted\"])\n",
        "\n",
        "alpha = 1\n",
        "it = 150\n",
        "theta = np.zeros(3)\n",
        "cost(theta, X, y)\n",
        "th, cst=simple_gradient(X,y,theta,alpha,it)\n",
        "print(f'Theta: {th}')\n",
        "print(f'Cost: {cst[-1]}')"
      ],
      "metadata": {
        "colab": {
          "base_uri": "https://localhost:8080/"
        },
        "id": "XHs1NqXIR6gl",
        "outputId": "396c7d86-e14c-4701-e0e9-a40e8b708dbb"
      },
      "execution_count": 236,
      "outputs": [
        {
          "output_type": "stream",
          "name": "stdout",
          "text": [
            "Theta: [1.41682812 3.36988187 3.122184  ]\n",
            "Cost: 0.2064705442318259\n"
          ]
        }
      ]
    },
    {
      "cell_type": "code",
      "source": [
        "# Ex. 7.: Please present the accuracy of the algorithm performance.\n",
        "# Prediction values will be in the range [0; 1]. Threshold value = 0.5.\n",
        "pred = (sig(X.dot(th)) >= 0.5).astype(int)\n",
        "print(f'Prediction: {pred}')"
      ],
      "metadata": {
        "colab": {
          "base_uri": "https://localhost:8080/"
        },
        "id": "0O9urZnKXSWL",
        "outputId": "02e68d16-ac02-4d37-c123-6511b12533fa"
      },
      "execution_count": 247,
      "outputs": [
        {
          "output_type": "stream",
          "name": "stdout",
          "text": [
            "Prediction: [0 0 0 1 1 0 1 0 1 1 1 0 1 1 0 1 0 0 1 1 0 1 0 0 1 1 1 1 0 0 1 1 0 0 0 0 1\n",
            " 1 0 0 1 0 1 1 0 0 1 1 1 1 1 1 1 0 0 0 1 1 1 1 1 0 0 0 0 0 1 0 1 1 0 1 1 1\n",
            " 1 1 1 1 0 1 1 1 1 0 1 1 0 1 1 0 1 1 0 1 1 1 1 1 0 1]\n"
          ]
        }
      ]
    },
    {
      "cell_type": "code",
      "source": [
        "admitted = np.array(data['Admitted'])\n",
        "acc = np.count_nonzero([admitted == pred])/len(pred)\n",
        "print(f'Accuracy: {acc}')"
      ],
      "metadata": {
        "colab": {
          "base_uri": "https://localhost:8080/"
        },
        "id": "-X8sTmnIZsNb",
        "outputId": "63f72a7b-8d44-4f7a-b83a-3deeb3f2917e"
      },
      "execution_count": 255,
      "outputs": [
        {
          "output_type": "stream",
          "name": "stdout",
          "text": [
            "Accuracy: 0.89\n"
          ]
        }
      ]
    },
    {
      "cell_type": "markdown",
      "source": [
        "# Logistic regression - Python"
      ],
      "metadata": {
        "id": "zgaV0ZmObtMr"
      }
    },
    {
      "cell_type": "code",
      "source": [
        "import numpy as np\n",
        "import matplotlib.pyplot as plt\n",
        "from sklearn.linear_model import LogisticRegression\n",
        "from sklearn import datasets\n",
        "from sklearn.metrics import accuracy_score\n",
        " \n",
        "iris = datasets.load_iris()\n",
        "X = iris.data[:, :2]  # we are analyzing only 2 parameters\n",
        "Y = iris.target"
      ],
      "metadata": {
        "id": "g-stUSXBbs3g"
      },
      "execution_count": 263,
      "outputs": []
    },
    {
      "cell_type": "code",
      "source": [
        "logreg = LogisticRegression()\n",
        "logreg.fit(X, Y)"
      ],
      "metadata": {
        "colab": {
          "base_uri": "https://localhost:8080/"
        },
        "id": "ztpZIg6DccUU",
        "outputId": "1e3918d1-93ff-457b-8d68-a49dbaae036a"
      },
      "execution_count": 257,
      "outputs": [
        {
          "output_type": "execute_result",
          "data": {
            "text/plain": [
              "LogisticRegression()"
            ]
          },
          "metadata": {},
          "execution_count": 257
        }
      ]
    },
    {
      "cell_type": "code",
      "source": [
        "# Plot the decision boundary. For that, we will assign a color to each\n",
        "# point in the mesh [x_min, x_max]x[y_min, y_max].\n",
        "x_min, x_max = X[:, 0].min() - .5, X[:, 0].max() + .5\n",
        "y_min, y_max = X[:, 1].min() - .5, X[:, 1].max() + .5\n",
        "h = .02  # step size in the mesh\n",
        "xx, yy = np.meshgrid(np.arange(x_min, x_max, h), np.arange(y_min, y_max, h))\n",
        "Z = logreg.predict(np.c_[xx.ravel(), yy.ravel()])\n",
        " \n",
        "# Put the result into a color plot\n",
        "Z = Z.reshape(xx.shape)\n",
        "plt.figure(1, figsize=(4, 3))\n",
        "plt.pcolormesh(xx, yy, Z, cmap=plt.cm.Paired)\n",
        " \n",
        "# Plot also the training points\n",
        "plt.scatter(X[:, 0], X[:, 1], c=Y, edgecolors='k', cmap=plt.cm.Paired)\n",
        "plt.xlabel('Sepal length')\n",
        "plt.ylabel('Sepal width')\n",
        " \n",
        "plt.xlim(xx.min(), xx.max())\n",
        "plt.ylim(yy.min(), yy.max())\n",
        "plt.xticks(())\n",
        "plt.yticks(())\n",
        " \n",
        "plt.show()"
      ],
      "metadata": {
        "colab": {
          "base_uri": "https://localhost:8080/",
          "height": 208
        },
        "id": "dcAjsZUbciB4",
        "outputId": "26f79b2f-2ed0-4eb3-a25b-d45007327a13"
      },
      "execution_count": 258,
      "outputs": [
        {
          "output_type": "display_data",
          "data": {
            "text/plain": [
              "<Figure size 288x216 with 1 Axes>"
            ],
            "image/png": "[encoded data removed]"
          },
          "metadata": {}
        }
      ]
    },
    {
      "cell_type": "code",
      "source": [
        "pr_proba = logreg.predict_proba(X)\n",
        "print(pr_proba)"
      ],
      "metadata": {
        "colab": {
          "base_uri": "https://localhost:8080/"
        },
        "id": "UDdSmJPJdH-G",
        "outputId": "459c32ac-4d55-4628-8a5b-49aaf240421a"
      },
      "execution_count": 266,
      "outputs": [
        {
          "output_type": "stream",
          "name": "stdout",
          "text": [
            "[[9.23473153e-01 5.85080967e-02 1.80187501e-02]\n",
            " [7.91565001e-01 1.80912648e-01 2.75223510e-02]\n",
            " [9.42364041e-01 5.08634498e-02 6.77250960e-03]\n",
            " [9.40553540e-01 5.37594346e-02 5.68702546e-03]\n",
            " [9.61853130e-01 2.96143932e-02 8.53247725e-03]\n",
            " [9.43195775e-01 3.40879207e-02 2.27163048e-02]\n",
            " [9.80228540e-01 1.74171057e-02 2.35435467e-03]\n",
            " [9.22927337e-01 6.19217567e-02 1.51509067e-02]\n",
            " [9.35998984e-01 5.99949470e-02 4.00606950e-03]\n",
            " [8.47181712e-01 1.31165035e-01 2.16532530e-02]\n",
            " [8.90214168e-01 7.01091740e-02 3.96766576e-02]\n",
            " [9.60793368e-01 3.31735691e-02 6.03306252e-03]\n",
            " [8.43554938e-01 1.38305338e-01 1.81397240e-02]\n",
            " [9.67965497e-01 3.01509884e-02 1.88351450e-03]\n",
            " [8.24095093e-01 7.61837358e-02 9.97211711e-02]\n",
            " [9.65419483e-01 1.34828235e-02 2.10976937e-02]\n",
            " [9.43195775e-01 3.40879207e-02 2.27163048e-02]\n",
            " [9.23473153e-01 5.85080967e-02 1.80187501e-02]\n",
            " [7.79417961e-01 1.12636786e-01 1.07945252e-01]\n",
            " [9.73286839e-01 1.91694663e-02 7.54369519e-03]\n",
            " [7.32310638e-01 1.85523196e-01 8.21661667e-02]\n",
            " [9.61891667e-01 2.79663749e-02 1.01419581e-02]\n",
            " [9.90636675e-01 8.07758178e-03 1.28574312e-03]\n",
            " [8.51665510e-01 1.17582432e-01 3.07520580e-02]\n",
            " [9.60793368e-01 3.31735691e-02 6.03306252e-03]\n",
            " [7.27371228e-01 2.31736927e-01 4.08918450e-02]\n",
            " [9.22927337e-01 6.19217567e-02 1.51509067e-02]\n",
            " [8.92963511e-01 7.88646149e-02 2.81718744e-02]\n",
            " [8.52303481e-01 1.11117786e-01 3.65787332e-02]\n",
            " [9.42364041e-01 5.08634498e-02 6.77250960e-03]\n",
            " [8.87410279e-01 9.85619262e-02 1.40277943e-02]\n",
            " [7.32310638e-01 1.85523196e-01 8.21661667e-02]\n",
            " [9.86667024e-01 8.42120108e-03 4.91177463e-03]\n",
            " [9.69809427e-01 1.51886551e-02 1.50019177e-02]\n",
            " [8.47181712e-01 1.31165035e-01 2.16532530e-02]\n",
            " [8.49919111e-01 1.24261055e-01 2.58198340e-02]\n",
            " [7.28548526e-01 1.74291936e-01 9.71595381e-02]\n",
            " [9.73166497e-01 2.14943564e-02 5.33914706e-03]\n",
            " [9.55504912e-01 4.14888482e-02 3.00624006e-03]\n",
            " [8.92801976e-01 8.35002316e-02 2.36977928e-02]\n",
            " [9.45610697e-01 4.29781081e-02 1.14111949e-02]\n",
            " [5.08019125e-01 4.69700679e-01 2.22801966e-02]\n",
            " [9.78831792e-01 1.95040516e-02 1.66415611e-03]\n",
            " [9.45610697e-01 4.29781081e-02 1.14111949e-02]\n",
            " [9.73286839e-01 1.91694663e-02 7.54369519e-03]\n",
            " [8.43554938e-01 1.38305338e-01 1.81397240e-02]\n",
            " [9.73286839e-01 1.91694663e-02 7.54369519e-03]\n",
            " [9.58621742e-01 3.71174048e-02 4.26085305e-03]\n",
            " [9.22456615e-01 5.21158132e-02 2.54275715e-02]\n",
            " [8.91763818e-01 8.83215025e-02 1.99146799e-02]\n",
            " [1.76572018e-03 1.98159499e-01 8.00074781e-01]\n",
            " [2.40076870e-02 3.67199992e-01 6.08792321e-01]\n",
            " [1.99574013e-03 2.37181640e-01 7.60822620e-01]\n",
            " [3.12773276e-02 8.01195592e-01 1.67527081e-01]\n",
            " [4.12101612e-03 4.17231224e-01 5.78647760e-01]\n",
            " [9.00352823e-02 6.39338696e-01 2.70626022e-01]\n",
            " [5.00960383e-02 3.72355785e-01 5.77548177e-01]\n",
            " [2.78914381e-01 6.59626821e-01 6.14587984e-02]\n",
            " [3.79506425e-03 3.62833651e-01 6.33371285e-01]\n",
            " [2.97488368e-01 5.92441125e-01 1.10070507e-01]\n",
            " [5.59442888e-02 8.75796694e-01 6.82590174e-02]\n",
            " [8.63671190e-02 5.46888217e-01 3.66744664e-01]\n",
            " [3.56431035e-03 7.09429360e-01 2.87006329e-01]\n",
            " [2.91837970e-02 5.30085993e-01 4.40730210e-01]\n",
            " [1.71899629e-01 5.93192401e-01 2.34907970e-01]\n",
            " [4.80817490e-03 2.94065298e-01 7.01126527e-01]\n",
            " [2.30298054e-01 5.38356630e-01 2.31345316e-01]\n",
            " [4.49972717e-02 6.57509546e-01 2.97493182e-01]\n",
            " [1.67146323e-03 6.46463533e-01 3.51865004e-01]\n",
            " [4.53180332e-02 7.42600197e-01 2.12081770e-01]\n",
            " [1.61278941e-01 4.68647294e-01 3.70073764e-01]\n",
            " [2.06795629e-02 5.54481076e-01 4.24839361e-01]\n",
            " [3.29151673e-03 5.51667659e-01 4.45040824e-01]\n",
            " [2.06795629e-02 5.54481076e-01 4.24839361e-01]\n",
            " [8.76895928e-03 4.31442498e-01 5.59788543e-01]\n",
            " [5.30645362e-03 3.43678178e-01 6.51015369e-01]\n",
            " [1.15102046e-03 3.15664591e-01 6.83184389e-01]\n",
            " [3.45245160e-03 3.11696525e-01 6.84851023e-01]\n",
            " [4.27896195e-02 5.57553028e-01 3.99657352e-01]\n",
            " [4.53796747e-02 7.02200804e-01 2.52419521e-01]\n",
            " [4.48630038e-02 7.78496059e-01 1.76640937e-01]\n",
            " [4.48630038e-02 7.78496059e-01 1.76640937e-01]\n",
            " [4.49972717e-02 6.57509546e-01 2.97493182e-01]\n",
            " [2.14231027e-02 6.08291583e-01 3.70285315e-01]\n",
            " [3.86511408e-01 4.64973881e-01 1.48514711e-01]\n",
            " [2.05603828e-01 3.82185971e-01 4.12210201e-01]\n",
            " [4.80817490e-03 2.94065298e-01 7.01126527e-01]\n",
            " [1.62221936e-03 5.92478670e-01 4.05899111e-01]\n",
            " [2.30298054e-01 5.38356630e-01 2.31345316e-01]\n",
            " [6.38999207e-02 7.51151515e-01 1.84948564e-01]\n",
            " [9.01646754e-02 7.17997298e-01 1.91838027e-01]\n",
            " [4.09736735e-02 5.04160240e-01 4.54866086e-01]\n",
            " [3.16815360e-02 6.83381081e-01 2.84937383e-01]\n",
            " [1.57448972e-01 7.66240053e-01 7.63109745e-02]\n",
            " [9.05091442e-02 6.80604446e-01 2.28886410e-01]\n",
            " [1.69984524e-01 5.53918615e-01 2.76096861e-01]\n",
            " [1.24689657e-01 5.99801917e-01 2.75508426e-01]\n",
            " [1.97090916e-02 4.99031453e-01 4.81259455e-01]\n",
            " [2.20428334e-01 6.86226573e-01 9.33450928e-02]\n",
            " [9.00352823e-02 6.39338696e-01 2.70626022e-01]\n",
            " [5.00960383e-02 3.72355785e-01 5.77548177e-01]\n",
            " [4.49972717e-02 6.57509546e-01 2.97493182e-01]\n",
            " [5.89031596e-04 2.00802940e-01 7.98608028e-01]\n",
            " [1.31966235e-02 4.65780087e-01 5.21023290e-01]\n",
            " [8.10784206e-03 3.76700403e-01 6.15191754e-01]\n",
            " [5.95999427e-05 1.06945179e-01 8.92995221e-01]\n",
            " [3.61785538e-01 5.79612522e-01 5.86019398e-02]\n",
            " [1.72393052e-04 1.68579839e-01 8.31247768e-01]\n",
            " [6.41854469e-04 4.06204884e-01 5.93153262e-01]\n",
            " [2.54560524e-03 1.16905316e-01 8.80549079e-01]\n",
            " [1.57921385e-02 3.36705387e-01 6.47502474e-01]\n",
            " [4.41792083e-03 4.73668474e-01 5.21913605e-01]\n",
            " [2.23418704e-03 2.81177567e-01 7.16588246e-01]\n",
            " [3.18378264e-02 7.27250780e-01 2.40911393e-01]\n",
            " [6.34571988e-02 6.28139256e-01 3.08403546e-01]\n",
            " [2.40076870e-02 3.67199992e-01 6.08792321e-01]\n",
            " [8.10784206e-03 3.76700403e-01 6.15191754e-01]\n",
            " [4.59216296e-04 5.09404415e-02 9.48600342e-01]\n",
            " [1.05436640e-05 1.25235391e-01 8.74754066e-01]\n",
            " [3.56431035e-03 7.09429360e-01 2.87006329e-01]\n",
            " [2.76437439e-03 2.22552817e-01 7.74682809e-01]\n",
            " [1.25738529e-01 6.40515812e-01 2.33745659e-01]\n",
            " [1.98870889e-05 1.08398943e-01 8.91581170e-01]\n",
            " [6.62355773e-03 5.09437721e-01 4.83938721e-01]\n",
            " [9.27098556e-03 2.60200269e-01 7.30528745e-01]\n",
            " [7.12415091e-04 1.55360168e-01 8.43927417e-01]\n",
            " [1.39676203e-02 5.22064992e-01 4.63967387e-01]\n",
            " [4.09736735e-02 5.04160240e-01 4.54866086e-01]\n",
            " [6.23163052e-03 4.52602977e-01 5.41165393e-01]\n",
            " [3.74757037e-04 1.78089392e-01 8.21535851e-01]\n",
            " [7.92450214e-05 1.59461367e-01 8.40459388e-01]\n",
            " [1.78031073e-04 3.83755647e-02 9.61446404e-01]\n",
            " [6.23163052e-03 4.52602977e-01 5.41165393e-01]\n",
            " [9.36228810e-03 4.87799030e-01 5.02838682e-01]\n",
            " [1.02620188e-02 5.99597570e-01 3.90140411e-01]\n",
            " [3.74132250e-05 9.35830714e-02 9.06379515e-01]\n",
            " [6.89178654e-02 3.47012963e-01 5.84069172e-01]\n",
            " [1.72192325e-02 3.88782738e-01 5.93998029e-01]\n",
            " [5.99061878e-02 5.28784353e-01 4.11309459e-01]\n",
            " [1.99574013e-03 2.37181640e-01 7.60822620e-01]\n",
            " [4.80817490e-03 2.94065298e-01 7.01126527e-01]\n",
            " [1.99574013e-03 2.37181640e-01 7.60822620e-01]\n",
            " [4.49972717e-02 6.57509546e-01 2.97493182e-01]\n",
            " [4.30900105e-03 2.48860550e-01 7.46830448e-01]\n",
            " [9.27098556e-03 2.60200269e-01 7.30528745e-01]\n",
            " [3.45245160e-03 3.11696525e-01 6.84851023e-01]\n",
            " [3.29151673e-03 5.51667659e-01 4.45040824e-01]\n",
            " [8.10784206e-03 3.76700403e-01 6.15191754e-01]\n",
            " [1.01486572e-01 3.66577399e-01 5.31936029e-01]\n",
            " [8.63671190e-02 5.46888217e-01 3.66744664e-01]]\n"
          ]
        }
      ]
    },
    {
      "cell_type": "code",
      "source": [
        "print(f\"Accuracy 1: {accuracy_score(Y, logreg.predict(X))}\")\n",
        "print(f\"Accuracy 2: {logreg.score(X,Y)}\")\n"
      ],
      "metadata": {
        "colab": {
          "base_uri": "https://localhost:8080/"
        },
        "id": "7pJzQn6yeBPf",
        "outputId": "263d8d29-d7f4-44d9-ff21-a1f1ad17daa3"
      },
      "execution_count": 265,
      "outputs": [
        {
          "output_type": "stream",
          "name": "stdout",
          "text": [
            "Accuracy 1: 0.82\n",
            "Accuracy 2: 0.82\n"
          ]
        }
      ]
    }
  ]
}